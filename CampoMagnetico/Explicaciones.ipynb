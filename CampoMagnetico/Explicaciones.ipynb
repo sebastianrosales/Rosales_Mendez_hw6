{
 "metadata": {
  "name": ""
 },
 "nbformat": 3,
 "nbformat_minor": 0,
 "worksheets": [
  {
   "cells": [
    {
     "cell_type": "markdown",
     "metadata": {},
     "source": [
      "Se debe resolver la siguiente ecuacion: \n",
      "\\begin{equation}\n",
      "m\\vec{\\ddot{r}}=q\\vec{\\dot{r}}\\times \\vec{B}(\\vec{r})\n",
      "\\end{equation}\n",
      "Coordenada a coordenada y resolviendo el producto cruz:\n",
      "\\begin{align}\n",
      "\\ddot{x}&=\\frac{q}{m}(\\dot{y} B_z -\\dot{z}B_y)\\\\\n",
      "\\ddot{y}&=\\frac{q}{m}(\\dot{z} B_x -\\dot{x}B_z)\\\\\n",
      "\\ddot{z}&=\\frac{q}{m}(\\dot{x} B_y -\\dot{y}B_x)\\\\\n",
      "\\end{align}\n",
      "Teniendo en cuenta la definicion del campo magnetico de la tierra \n",
      "\\begin{align}\n",
      "\\ddot{x}&=-\\frac{q B_0 R_T^3}{m}\\frac{1}{r^5}((2z^2-x^2-y^2)\\dot{y} -3yz\\dot{z})\\\\\n",
      "\\ddot{y}&=-\\frac{q B_0 R_T^3}{m}\\frac{1}{r^5}(3xy\\dot{z}  -(2z^2-x^2-y^2)\\dot{x})\\\\\n",
      "\\ddot{z}&=-\\frac{q B_0 R_T^3}{m}\\frac{1}{r^5}(3yz\\dot{x} -3xy\\dot{y})\\\\\n",
      "\\end{align}\n",
      "\n",
      "defino $k=-\\frac{q B_0 R_T^3}{m}$\n",
      "\\begin{align}\n",
      "\\ddot{x}&=\\frac{k}{r^5}((2z^2-x^2-y^2)\\dot{y} -3yz\\dot{z})\\\\\n",
      "\\ddot{y}&=\\frac{k}{r^5}(3xy\\dot{z}  -(2z^2-x^2-y^2)\\dot{x})\\\\\n",
      "\\ddot{z}&=\\frac{k}{r^5}(3yz\\dot{x} -3xy\\dot{y})\\\\\n",
      "\\end{align}"
     ]
    },
    {
     "cell_type": "code",
     "collapsed": false,
     "input": [],
     "language": "python",
     "metadata": {},
     "outputs": []
    }
   ],
   "metadata": {}
  }
 ]
}