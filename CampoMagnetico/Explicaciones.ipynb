{
 "metadata": {
  "name": ""
 },
 "nbformat": 3,
 "nbformat_minor": 0,
 "worksheets": [
  {
   "cells": [
    {
     "cell_type": "heading",
     "level": 1,
     "metadata": {},
     "source": [
      " Teor\u00eda"
     ]
    },
    {
     "cell_type": "markdown",
     "metadata": {},
     "source": [
      "Se debe resolver la siguiente ecuacion: \n",
      "\\begin{equation}\n",
      "m\\vec{\\ddot{r}}=q\\vec{\\dot{r}}\\times \\vec{B}(\\vec{r})\n",
      "\\end{equation}\n",
      "Coordenada a coordenada y resolviendo el producto cruz:\n",
      "\\begin{align}\n",
      "\\ddot{x}&=\\frac{q}{m}(\\dot{y} B_z -\\dot{z}B_y)\\\\\n",
      "\\ddot{y}&=\\frac{q}{m}(\\dot{z} B_x -\\dot{x}B_z)\\\\\n",
      "\\ddot{z}&=\\frac{q}{m}(\\dot{x} B_y -\\dot{y}B_x)\\\\\n",
      "\\end{align}\n",
      "Teniendo en cuenta la definicion del campo magnetico de la tierra \n",
      "\\begin{align}\n",
      "\\ddot{x}&=-\\frac{q B_0 R_T^3}{m}\\frac{1}{r^5}((2z^2-x^2-y^2)\\dot{y} -3yz\\dot{z})\\\\\n",
      "\\ddot{y}&=-\\frac{q B_0 R_T^3}{m}\\frac{1}{r^5}(3xy\\dot{z}  -(2z^2-x^2-y^2)\\dot{x})\\\\\n",
      "\\ddot{z}&=-\\frac{q B_0 R_T^3}{m}\\frac{1}{r^5}(3yz\\dot{x} -3xy\\dot{y})\\\\\n",
      "\\end{align}\n",
      "\n",
      "defino $k=-\\frac{q B_0 R_T^3}{m}$\n",
      "\\begin{align}\n",
      "\\ddot{x}&=\\frac{k}{r^5}((2z^2-x^2-y^2)\\dot{y} -3yz\\dot{z})\\\\\n",
      "\\ddot{y}&=\\frac{k}{r^5}(3xy\\dot{z}  -(2z^2-x^2-y^2)\\dot{x})\\\\\n",
      "\\ddot{z}&=\\frac{k}{r^5}(3yz\\dot{x} -3xy\\dot{y})\\\\\n",
      "\\end{align}\n",
      "\n",
      "que se podr\u00eda escribir: \n",
      "\\begin{align}\n",
      "\\ddot{x}&=f_1(x,y,z,\\dot{x},\\dot{y},\\dot{z})\\\\\n",
      "\\ddot{y}&=f_2(x,y,z,\\dot{x},\\dot{y},\\dot{z})\\\\\n",
      "\\ddot{z}&=f_3(x,y,z,\\dot{x},\\dot{y},\\dot{z})\\\\\n",
      "\\end{align}"
     ]
    },
    {
     "cell_type": "heading",
     "level": 1,
     "metadata": {},
     "source": [
      "Computacional"
     ]
    },
    {
     "cell_type": "heading",
     "level": 2,
     "metadata": {},
     "source": [
      "Planteamiento Gral"
     ]
    },
    {
     "cell_type": "markdown",
     "metadata": {},
     "source": [
      "Sabemos que\n",
      "\\begin{align}\n",
      "\\ddot{x}=\\frac{d^2x}{dt^2} &\\approx \\frac{x^{\\prime}(t+\\Delta t/2) - x^{\\prime}(t-\\Delta t/2)}{\\Delta t}\\approx \\frac{x(t+\\Delta t) - 2x(t) + x(t-\\Delta t)}{(\\Delta t)^2}=\\frac{x(t_{i+1}) - 2x(t_i) + x(t_{i-1})}{(\\Delta t)^2}\\\\\n",
      "&=f_1(x_i,y_i,z_i,\\dot{x}_i,\\dot{y}_i,\\dot{z}_i)\\\\\n",
      "f_1(x_i,y_i,z_i,\\dot{x}_i,\\dot{y}_i,\\dot{z}_i)&\\approx \\frac{x(t_{i+1}) - 2x(t_i) + x(t_{i-1})}{(\\Delta t)^2}\\\\\n",
      "\\end{align}"
     ]
    },
    {
     "cell_type": "markdown",
     "metadata": {},
     "source": [
      "Entonces: \n",
      "\\begin{equation}\n",
      "x(t_{i+1})=2x(t_i)+f_1(x_i,y_i,z_i,\\dot{x}_i,\\dot{y}_i,\\dot{z}_i)(\\Delta t)^2 -x(t_{i-1})\n",
      "\\end{equation}"
     ]
    },
    {
     "cell_type": "markdown",
     "metadata": {},
     "source": [
      "De ac\u00e1 podemos ver que para poder conocer $x$ en el futuro ($t=i+1$) necesitamos saber $x$ en el presente y en el pasado ($t=i, i-1$) y la funci\u00f3n $f_1$ en las posiciones y velocidades en el presente"
     ]
    },
    {
     "cell_type": "heading",
     "level": 2,
     "metadata": {},
     "source": [
      "Velocidades"
     ]
    },
    {
     "cell_type": "code",
     "collapsed": false,
     "input": [],
     "language": "python",
     "metadata": {},
     "outputs": []
    }
   ],
   "metadata": {}
  }
 ]
}