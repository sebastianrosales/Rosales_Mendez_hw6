{
 "metadata": {
  "name": ""
 },
 "nbformat": 3,
 "nbformat_minor": 0,
 "worksheets": [
  {
   "cells": [
    {
     "cell_type": "heading",
     "level": 1,
     "metadata": {},
     "source": [
      " Teor\u00eda"
     ]
    },
    {
     "cell_type": "markdown",
     "metadata": {},
     "source": [
      "Se debe resolver la siguiente ecuacion: \n",
      "\\begin{equation}\n",
      "\\frac{d(\\gamma m \\vec{\\dot{r}})}{dt}=q\\vec{\\dot{r}}\\times \\vec{B}(\\vec{r})\n",
      "\\end{equation}\n",
      "Coordenada a coordenada y resolviendo el producto cruz y teniendo en cuenta que $\\gamma$  y $m$ son constantes ($\\gamma$ es constante por que depende de la magnitud de la velocidad y al ser la aceleraci\u00f3n perpendicular a esta, solo modifica su direcci\u00f3n):\n",
      "\\begin{align}\n",
      "\\ddot{x}&=\\frac{q}{\\gamma m}(\\dot{y} B_z -\\dot{z}B_y)\\\\\n",
      "\\ddot{y}&=\\frac{q}{\\gamma m}(\\dot{z} B_x -\\dot{x}B_z)\\\\\n",
      "\\ddot{z}&=\\frac{q}{\\gamma m}(\\dot{x} B_y -\\dot{y}B_x)\\\\\n",
      "\\end{align}\n",
      "Teniendo en cuenta la definicion del campo magnetico de la tierra \n",
      "\\begin{align}\n",
      "\\ddot{x}&=-\\frac{q B_0 R_T^3}{\\gamma m}\\frac{1}{r^5}((2z^2-x^2-y^2)\\dot{y} -3yz\\dot{z})\\\\\n",
      "\\ddot{y}&=-\\frac{q B_0 R_T^3}{\\gamma m}\\frac{1}{r^5}(3xy\\dot{z}  -(2z^2-x^2-y^2)\\dot{x})\\\\\n",
      "\\ddot{z}&=-\\frac{q B_0 R_T^3}{\\gamma m}\\frac{1}{r^5}(3yz\\dot{x} -3xy\\dot{y})\\\\\n",
      "\\end{align}\n",
      "\n",
      "defino $k=-\\frac{q B_0 R_T^3}{m\\gamma}$\n",
      "\\begin{align}\n",
      "\\ddot{x}&=\\frac{k}{r^5}((2z^2-x^2-y^2)\\dot{y} -3yz\\dot{z})\\\\\n",
      "\\ddot{y}&=\\frac{k}{r^5}(3xy\\dot{z}  -(2z^2-x^2-y^2)\\dot{x})\\\\\n",
      "\\ddot{z}&=\\frac{k}{r^5}(3yz\\dot{x} -3xy\\dot{y})\\\\\n",
      "\\end{align}\n",
      "\n",
      "que se podr\u00eda escribir: \n",
      "\\begin{align}\n",
      "\\ddot{x}&=f_1(x,y,z,\\dot{x},\\dot{y},\\dot{z})\\\\\n",
      "\\ddot{y}&=f_2(x,y,z,\\dot{x},\\dot{y},\\dot{z})\\\\\n",
      "\\ddot{z}&=f_3(x,y,z,\\dot{x},\\dot{y},\\dot{z})\\\\\n",
      "\\end{align}"
     ]
    },
    {
     "cell_type": "heading",
     "level": 1,
     "metadata": {},
     "source": [
      "Computacional"
     ]
    },
    {
     "cell_type": "heading",
     "level": 2,
     "metadata": {},
     "source": [
      "Planteamiento Gral"
     ]
    },
    {
     "cell_type": "markdown",
     "metadata": {},
     "source": [
      "Sabemos que\n",
      "\\begin{align}\n",
      "\\ddot{x}=\\frac{d v_x}{dt}&=f_1(x_i,y_i,z_i,\\dot{x}_i,\\dot{y}_i,\\dot{z}_i)\\\\\n",
      "\\end{align}"
     ]
    },
    {
     "cell_type": "markdown",
     "metadata": {},
     "source": [
      "Entonces usando LeapFrog obetenemos: \n",
      "\\begin{equation}\n",
      "v_{i+1}=v_{i-1}+2(\\Delta t)f_1(x_i,y_i,z_i,\\dot{x}_i,\\dot{y}_i,\\dot{z}_i)\n",
      "\\end{equation}"
     ]
    },
    {
     "cell_type": "markdown",
     "metadata": {},
     "source": [
      "Para avanzar en las posiciones usando LeapFrog\n",
      "\\begin{align}\n",
      "X_{i+1}=x_{i-1}+2(\\Delta t)f_1(x_i,y_i,z_i,\\dot{x}_i,\\dot{y}_i,\\dot{z}_i)\n",
      "\\end{align}"
     ]
    },
    {
     "cell_type": "heading",
     "level": 2,
     "metadata": {},
     "source": [
      "Primer paso i=1"
     ]
    },
    {
     "cell_type": "markdown",
     "metadata": {},
     "source": [
      "Por la condiciones iniciales conocemos todo en $i=0$. Para sacar $i=1$ usamos Euler\n",
      "\\begin{align} \n",
      "x_1=& \\dot{x}_0 \\times \\Delta t+x_0\\\\\n",
      "\\dot{x}_1=& f_1(x_0,y_0,z_0,\\dot{x}_0,\\dot{y}_0,\\dot{z}_0)\\times \\Delta t+\\dot{x}_0\n",
      "\\end{align}"
     ]
    },
    {
     "cell_type": "code",
     "collapsed": false,
     "input": [],
     "language": "python",
     "metadata": {},
     "outputs": []
    }
   ],
   "metadata": {}
  }
 ]
}